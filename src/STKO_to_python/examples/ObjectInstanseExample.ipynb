{
 "cells": [
  {
   "cell_type": "code",
   "execution_count": 1,
   "id": "d842d2bd",
   "metadata": {},
   "outputs": [],
   "source": [
    "import numpy as np\n",
    "from STKO_to_python import MPCODataSet"
   ]
  },
  {
   "cell_type": "code",
   "execution_count": 2,
   "id": "5b9aab45",
   "metadata": {},
   "outputs": [
    {
     "name": "stdout",
     "output_type": "stream",
     "text": [
      "Memory usage for structured array (NODES): 0.10 MB\n",
      "Memory usage for DataFrame (NODES): 0.09 MB\n",
      "No elements found.\n"
     ]
    }
   ],
   "source": [
    "#filepath=r'D:\\STKO Models\\SW\\Frame_Nm\\cyclic_0.25'\n",
    "filepath=r'D:\\STKO Models\\SW\\Shell_Nm\\005_15000a_025'\n",
    "model=MPCODataSet(hdf5_directory=filepath, \n",
    "                  recorder_name='results')"
   ]
  },
  {
   "cell_type": "code",
   "execution_count": 3,
   "id": "e03602c7",
   "metadata": {},
   "outputs": [
    {
     "data": {
      "text/plain": [
       "defaultdict(dict,\n",
       "            {'results': {0: 'D:\\\\STKO Models\\\\SW\\\\Shell_Nm\\\\005_15000a_025\\\\results.part-0.mpco',\n",
       "              1: 'D:\\\\STKO Models\\\\SW\\\\Shell_Nm\\\\005_15000a_025\\\\results.part-1.mpco',\n",
       "              2: 'D:\\\\STKO Models\\\\SW\\\\Shell_Nm\\\\005_15000a_025\\\\results.part-2.mpco',\n",
       "              3: 'D:\\\\STKO Models\\\\SW\\\\Shell_Nm\\\\005_15000a_025\\\\results.part-3.mpco'}})"
      ]
     },
     "execution_count": 3,
     "metadata": {},
     "output_type": "execute_result"
    }
   ],
   "source": [
    "model.model_info._get_file_list(extension='mpco')"
   ]
  },
  {
   "cell_type": "code",
   "execution_count": 4,
   "id": "ece1f480",
   "metadata": {},
   "outputs": [
    {
     "name": "stdout",
     "output_type": "stream",
     "text": [
      "File name: results\n",
      "Number of partitions: 4\n",
      "------------------------------------------------------\n",
      "Number of model stages: 3\n",
      "Model stages: ['MODEL_STAGE[1]', 'MODEL_STAGE[2]', 'MODEL_STAGE[3]']\n",
      "  - MODEL_STAGE[1]\n",
      "  - MODEL_STAGE[2]\n",
      "  - MODEL_STAGE[3]\n",
      "------------------------------------------------------\n",
      "Number of nodal results: 3\n",
      "  - DISPLACEMENT\n",
      "  - REACTION_FORCE\n",
      "  - REACTION_MOMENT\n",
      "------------------------------------------------------\n",
      "Number of element results: 18\n",
      "  - material.strain\n",
      "  - material.cw\n",
      "  - equivalentPlasticStrain\n",
      "  - section.fiber.stress\n",
      "  - section.deformation\n",
      "  - section.fiber.damage\n",
      "  - deformation\n",
      "  - section.force\n",
      "  - section.fiber.strain\n",
      "  - section.fiber.equivalentPlasticStrain\n",
      "  - section.fiber.cw\n",
      "  - material.equivalentPlasticStrain\n",
      "  - cw\n",
      "  - material.stress\n",
      "  - damage\n",
      "  - force\n",
      "  - material.damage\n",
      "  - localForce\n",
      "Number of unique element types: 3\n",
      "  - 203-ASDShellQ4\n",
      "  - 204-ASDShellT3\n",
      "  - 64-DispBeamColumn3d\n",
      "------------------------------------------------------\n",
      "General model information:\n",
      "Number of nodes: 2\n",
      "Number of element types: 3\n",
      "Number of elements: 2\n",
      "Number of steps: {'MODEL_STAGE[1]': 2, 'MODEL_STAGE[2]': 2, 'MODEL_STAGE[3]': 1373}\n",
      "Number of selection sets: 2\n"
     ]
    }
   ],
   "source": [
    "model.print_summary()"
   ]
  },
  {
   "cell_type": "code",
   "execution_count": 5,
   "id": "31e4997e",
   "metadata": {},
   "outputs": [
    {
     "name": "stdout",
     "output_type": "stream",
     "text": [
      "Selection set: 1\n",
      "Selection Set name: TopNode\n",
      "------------------------------------------------------\n",
      "Selection set: 2\n",
      "Selection Set name: baseNodes\n",
      "------------------------------------------------------\n"
     ]
    }
   ],
   "source": [
    "model.print_selection_set_info()"
   ]
  },
  {
   "cell_type": "code",
   "execution_count": 6,
   "id": "a4482039",
   "metadata": {},
   "outputs": [
    {
     "name": "stdout",
     "output_type": "stream",
     "text": [
      "Number of model stages: 3\n",
      "  - MODEL_STAGE[1]\n",
      "  - MODEL_STAGE[2]\n",
      "  - MODEL_STAGE[3]\n"
     ]
    }
   ],
   "source": [
    "model.print_model_stages()"
   ]
  },
  {
   "cell_type": "code",
   "execution_count": 7,
   "id": "fb4e95c2",
   "metadata": {},
   "outputs": [
    {
     "name": "stdout",
     "output_type": "stream",
     "text": [
      "Number of nodal results: 3\n",
      "  - DISPLACEMENT\n",
      "  - REACTION_FORCE\n",
      "  - REACTION_MOMENT\n"
     ]
    }
   ],
   "source": [
    "model.print_nodal_results()"
   ]
  },
  {
   "cell_type": "code",
   "execution_count": 8,
   "id": "9158781b",
   "metadata": {},
   "outputs": [
    {
     "name": "stdout",
     "output_type": "stream",
     "text": [
      "Number of element results: 18\n",
      "  - material.strain\n",
      "  - material.cw\n",
      "  - equivalentPlasticStrain\n",
      "  - section.fiber.stress\n",
      "  - section.deformation\n",
      "  - section.fiber.damage\n",
      "  - deformation\n",
      "  - section.force\n",
      "  - section.fiber.strain\n",
      "  - section.fiber.equivalentPlasticStrain\n",
      "  - section.fiber.cw\n",
      "  - material.equivalentPlasticStrain\n",
      "  - cw\n",
      "  - material.stress\n",
      "  - damage\n",
      "  - force\n",
      "  - material.damage\n",
      "  - localForce\n"
     ]
    }
   ],
   "source": [
    "model.print_element_results()"
   ]
  },
  {
   "cell_type": "code",
   "execution_count": 9,
   "id": "7640fed6",
   "metadata": {},
   "outputs": [
    {
     "name": "stdout",
     "output_type": "stream",
     "text": [
      "Number of unique element types: 4\n",
      "  - material.strain\n",
      "  - material.cw\n",
      "  - equivalentPlasticStrain\n",
      "  - section.fiber.stress\n",
      "    - 64-DispBeamColumn3d[1000:1:0]\n",
      "    - 203-ASDShellQ4[201:0:1]\n",
      "    - 203-ASDShellQ4[201:0:0]\n",
      "  - section.deformation\n",
      "    - 64-DispBeamColumn3d[1000:1:0]\n",
      "    - 203-ASDShellQ4[201:0:0]\n",
      "    - 204-ASDShellT3[102:0:0]\n",
      "  - section.fiber.damage\n",
      "    - 203-ASDShellQ4[201:0:1]\n",
      "    - 203-ASDShellQ4[201:0:0]\n",
      "  - deformation\n",
      "  - section.force\n",
      "    - 64-DispBeamColumn3d[1000:1:0]\n",
      "    - 203-ASDShellQ4[201:0:0]\n",
      "    - 204-ASDShellT3[102:0:0]\n",
      "  - section.fiber.strain\n",
      "    - 64-DispBeamColumn3d[1000:1:0]\n",
      "    - 203-ASDShellQ4[201:0:1]\n",
      "    - 203-ASDShellQ4[201:0:0]\n",
      "  - section.fiber.equivalentPlasticStrain\n",
      "    - 203-ASDShellQ4[201:0:1]\n",
      "    - 203-ASDShellQ4[201:0:0]\n",
      "  - section.fiber.cw\n",
      "    - 203-ASDShellQ4[201:0:1]\n",
      "    - 203-ASDShellQ4[201:0:0]\n",
      "  - material.equivalentPlasticStrain\n",
      "  - cw\n",
      "  - material.stress\n",
      "  - damage\n",
      "  - force\n",
      "    - 64-DispBeamColumn3d[1000:1:0]\n",
      "    - 203-ASDShellQ4[201:0:0]\n",
      "    - 204-ASDShellT3[102:0:0]\n",
      "  - material.damage\n",
      "  - localForce\n",
      "    - 64-DispBeamColumn3d[1000:1:0]\n"
     ]
    }
   ],
   "source": [
    "model.print_element_types()"
   ]
  },
  {
   "cell_type": "code",
   "execution_count": 10,
   "id": "fce1f4b6",
   "metadata": {},
   "outputs": [
    {
     "name": "stdout",
     "output_type": "stream",
     "text": [
      "Number of unique element types: 3\n",
      "  - 203-ASDShellQ4\n",
      "  - 204-ASDShellT3\n",
      "  - 64-DispBeamColumn3d\n"
     ]
    }
   ],
   "source": [
    "model.print_unique_element_types()"
   ]
  },
  {
   "cell_type": "code",
   "execution_count": 11,
   "id": "773c9a93",
   "metadata": {},
   "outputs": [
    {
     "data": {
      "text/plain": [
       "'D:\\\\STKO Models\\\\SW\\\\Shell_Nm\\\\005_15000a_025'"
      ]
     },
     "execution_count": 11,
     "metadata": {},
     "output_type": "execute_result"
    }
   ],
   "source": [
    "model.hd5f_directory"
   ]
  },
  {
   "cell_type": "code",
   "execution_count": 12,
   "id": "393c1415",
   "metadata": {},
   "outputs": [
    {
     "name": "stdout",
     "output_type": "stream",
     "text": [
      "HDF5 directory (incorrect attribute): D:\\STKO Models\\SW\\Shell_Nm\\005_15000a_025\n",
      "Recorder name: results\n",
      "File extension: *.mpco\n",
      "Results partitions: {0: 'D:\\\\STKO Models\\\\SW\\\\Shell_Nm\\\\005_15000a_025\\\\results.part-0.mpco', 1: 'D:\\\\STKO Models\\\\SW\\\\Shell_Nm\\\\005_15000a_025\\\\results.part-1.mpco', 2: 'D:\\\\STKO Models\\\\SW\\\\Shell_Nm\\\\005_15000a_025\\\\results.part-2.mpco', 3: 'D:\\\\STKO Models\\\\SW\\\\Shell_Nm\\\\005_15000a_025\\\\results.part-3.mpco'}\n",
      "CData partitions: {0: 'D:\\\\STKO Models\\\\SW\\\\Shell_Nm\\\\005_15000a_025\\\\results.part-0.mpco.cdata', 1: 'D:\\\\STKO Models\\\\SW\\\\Shell_Nm\\\\005_15000a_025\\\\results.part-1.mpco.cdata', 2: 'D:\\\\STKO Models\\\\SW\\\\Shell_Nm\\\\005_15000a_025\\\\results.part-2.mpco.cdata', 3: 'D:\\\\STKO Models\\\\SW\\\\Shell_Nm\\\\005_15000a_025\\\\results.part-3.mpco.cdata'}\n",
      "Model stages: ['MODEL_STAGE[1]', 'MODEL_STAGE[2]', 'MODEL_STAGE[3]']\n",
      "Node results names: ['DISPLACEMENT', 'REACTION_FORCE', 'REACTION_MOMENT']\n",
      "Element results names: ['material.strain', 'material.cw', 'equivalentPlasticStrain', 'section.fiber.stress', 'section.deformation', 'section.fiber.damage', 'deformation', 'section.force', 'section.fiber.strain', 'section.fiber.equivalentPlasticStrain', 'section.fiber.cw', 'material.equivalentPlasticStrain', 'cw', 'material.stress', 'damage', 'force', 'material.damage', 'localForce']\n",
      "Element types: {'element_types_dict': {'material.strain': [], 'material.cw': [], 'equivalentPlasticStrain': [], 'section.fiber.stress': ['64-DispBeamColumn3d[1000:1:0]', '203-ASDShellQ4[201:0:1]', '203-ASDShellQ4[201:0:0]'], 'section.deformation': ['64-DispBeamColumn3d[1000:1:0]', '203-ASDShellQ4[201:0:0]', '204-ASDShellT3[102:0:0]'], 'section.fiber.damage': ['203-ASDShellQ4[201:0:1]', '203-ASDShellQ4[201:0:0]'], 'deformation': [], 'section.force': ['64-DispBeamColumn3d[1000:1:0]', '203-ASDShellQ4[201:0:0]', '204-ASDShellT3[102:0:0]'], 'section.fiber.strain': ['64-DispBeamColumn3d[1000:1:0]', '203-ASDShellQ4[201:0:1]', '203-ASDShellQ4[201:0:0]'], 'section.fiber.equivalentPlasticStrain': ['203-ASDShellQ4[201:0:1]', '203-ASDShellQ4[201:0:0]'], 'section.fiber.cw': ['203-ASDShellQ4[201:0:1]', '203-ASDShellQ4[201:0:0]'], 'material.equivalentPlasticStrain': [], 'cw': [], 'material.stress': [], 'damage': [], 'force': ['64-DispBeamColumn3d[1000:1:0]', '203-ASDShellQ4[201:0:0]', '204-ASDShellT3[102:0:0]'], 'material.damage': [], 'localForce': ['64-DispBeamColumn3d[1000:1:0]']}, 'unique_element_types': {'64-DispBeamColumn3d[1000:1:0]', '203-ASDShellQ4[201:0:1]', '204-ASDShellT3[102:0:0]', '203-ASDShellQ4[201:0:0]'}}\n",
      "Unique element types: ['203-ASDShellQ4', '204-ASDShellT3', '64-DispBeamColumn3d']\n",
      "Time:                           TIME\n",
      "MODEL_STAGE    STEP           \n",
      "MODEL_STAGE[1] 0      0.500000\n",
      "               1      1.000000\n",
      "MODEL_STAGE[2] 2      0.500000\n",
      "               3      1.000000\n",
      "MODEL_STAGE[3] 4      0.000067\n",
      "...                        ...\n",
      "               14953  0.996667\n",
      "               14964  0.997400\n",
      "               14975  0.998133\n",
      "               14986  0.998867\n",
      "               14997  0.999600\n",
      "\n",
      "[1377 rows x 1 columns]\n",
      "Nodes info: {'array': array([(   8, 0,   0, 0.82, 0., 2.  ), (  10, 0,   1, 0.98, 0., 2.  ),\n",
      "       (  12, 0,   2, 0.9 , 0., 2.  ), ...,\n",
      "       (2007, 3, 565, 0.25, 0., 0.95), (2008, 3, 566, 0.25, 0., 1.  ),\n",
      "       (2009, 3, 567, 0.25, 0., 1.05)],\n",
      "      shape=(2232,), dtype=[('node_id', '<i8'), ('file_id', '<i8'), ('index', '<i8'), ('x', '<f8'), ('y', '<f8'), ('z', '<f8')]), 'dataframe':       node_id  file_id  index     x    y     z\n",
      "0           8        0      0  0.82  0.0  2.00\n",
      "1          10        0      1  0.98  0.0  2.00\n",
      "2          12        0      2  0.90  0.0  2.00\n",
      "3         705        0      3  0.82  0.0  0.96\n",
      "4         706        0      4  0.82  0.0  0.97\n",
      "...       ...      ...    ...   ...  ...   ...\n",
      "2227     2005        3    563  0.25  0.0  0.85\n",
      "2228     2006        3    564  0.25  0.0  0.90\n",
      "2229     2007        3    565  0.25  0.0  0.95\n",
      "2230     2008        3    566  0.25  0.0  1.00\n",
      "2231     2009        3    567  0.25  0.0  1.05\n",
      "\n",
      "[2232 rows x 6 columns]}\n",
      "Elements info: {'array': array([],\n",
      "      dtype=[('element_id', '<i8'), ('file_id', '<i8'), ('index', '<i8'), ('type', '<U50')]), 'dataframe': Empty DataFrame\n",
      "Columns: []\n",
      "Index: []}\n",
      "Number of steps: {'MODEL_STAGE[1]': 2, 'MODEL_STAGE[2]': 2, 'MODEL_STAGE[3]': 1373}\n",
      "Selection set: {1: {'SET_NAME': 'TopNode', 'NODES': [np.int64(1211)], 'ELEMENTS': []}, 2: {'SET_NAME': 'baseNodes', 'NODES': [np.int64(1), np.int64(3), np.int64(5), np.int64(7), np.int64(9), np.int64(11), np.int64(1212), np.int64(1213), np.int64(1214), np.int64(1215), np.int64(1333), np.int64(1334), np.int64(1335), np.int64(1375), np.int64(1376), np.int64(1377), np.int64(1378), np.int64(1379), np.int64(1380), np.int64(1381), np.int64(1382), np.int64(1383), np.int64(1384), np.int64(1385), np.int64(1386), np.int64(1387), np.int64(1388)], 'ELEMENTS': [np.int64(1325), np.int64(1326), np.int64(1327), np.int64(1328), np.int64(1369), np.int64(1370), np.int64(1371), np.int64(1372), np.int64(1373), np.int64(1374), np.int64(1375), np.int64(1376), np.int64(1377), np.int64(1378), np.int64(1379), np.int64(1380), np.int64(1381), np.int64(1382), np.int64(1383), np.int64(1384)]}}\n"
     ]
    }
   ],
   "source": [
    "print('HDF5 directory (incorrect attribute):', model.hd5f_directory)  # Note: This seems to be a typo, should it be model.hdf5_directory?\n",
    "print('Recorder name:', model.recorder_name)\n",
    "print('File extension:', model.file_extension)\n",
    "print('Results partitions:', model.results_partitions)\n",
    "print('CData partitions:', model.cdata_partitions)\n",
    "print('Model stages:', model.model_stages)\n",
    "print('Node results names:', model.node_results_names)\n",
    "print('Element results names:', model.element_results_names)\n",
    "print('Element types:', model.element_types)\n",
    "print('Unique element types:', model.unique_element_types)\n",
    "print('Time:', model.time)\n",
    "print('Nodes info:', model.nodes_info)\n",
    "print('Elements info:', model.elements_info)\n",
    "print('Number of steps:', model.number_of_steps)\n",
    "print('Selection set:', model.selection_set)"
   ]
  },
  {
   "cell_type": "code",
   "execution_count": 13,
   "id": "bbec9671",
   "metadata": {},
   "outputs": [
    {
     "data": {
      "text/plain": [
       "{0: 'D:\\\\STKO Models\\\\SW\\\\Shell_Nm\\\\005_15000a_025\\\\results.part-0.mpco',\n",
       " 1: 'D:\\\\STKO Models\\\\SW\\\\Shell_Nm\\\\005_15000a_025\\\\results.part-1.mpco',\n",
       " 2: 'D:\\\\STKO Models\\\\SW\\\\Shell_Nm\\\\005_15000a_025\\\\results.part-2.mpco',\n",
       " 3: 'D:\\\\STKO Models\\\\SW\\\\Shell_Nm\\\\005_15000a_025\\\\results.part-3.mpco'}"
      ]
     },
     "execution_count": 13,
     "metadata": {},
     "output_type": "execute_result"
    }
   ],
   "source": [
    "model.results_partitions"
   ]
  },
  {
   "cell_type": "code",
   "execution_count": 14,
   "id": "4edeaf63",
   "metadata": {},
   "outputs": [
    {
     "data": {
      "text/plain": [
       "dict_keys(['element_types_dict', 'unique_element_types'])"
      ]
     },
     "execution_count": 14,
     "metadata": {},
     "output_type": "execute_result"
    }
   ],
   "source": [
    "model.element_types.keys()"
   ]
  },
  {
   "cell_type": "code",
   "execution_count": 15,
   "id": "e0f5747a",
   "metadata": {},
   "outputs": [
    {
     "data": {
      "text/plain": [
       "{'203-ASDShellQ4[201:0:0]',\n",
       " '203-ASDShellQ4[201:0:1]',\n",
       " '204-ASDShellT3[102:0:0]',\n",
       " '64-DispBeamColumn3d[1000:1:0]'}"
      ]
     },
     "execution_count": 15,
     "metadata": {},
     "output_type": "execute_result"
    }
   ],
   "source": [
    "model.element_types['unique_element_types']"
   ]
  },
  {
   "cell_type": "code",
   "execution_count": 16,
   "id": "1b86054e",
   "metadata": {},
   "outputs": [
    {
     "data": {
      "text/plain": [
       "['203-ASDShellQ4', '204-ASDShellT3', '64-DispBeamColumn3d']"
      ]
     },
     "execution_count": 16,
     "metadata": {},
     "output_type": "execute_result"
    }
   ],
   "source": [
    "model.unique_element_types"
   ]
  },
  {
   "cell_type": "code",
   "execution_count": 17,
   "id": "80dc6c72",
   "metadata": {},
   "outputs": [
    {
     "data": {
      "application/vnd.microsoft.datawrangler.viewer.v0+json": {
       "columns": [
        {
         "name": "('MODEL_STAGE', 'STEP')",
         "rawType": "object",
         "type": "unknown"
        },
        {
         "name": "TIME",
         "rawType": "float64",
         "type": "float"
        }
       ],
       "conversionMethod": "pd.DataFrame",
       "ref": "099c35e8-ece3-4a26-8af0-0014cb977c68",
       "rows": [
        [
         "('MODEL_STAGE[1]', np.int64(0))",
         "0.5"
        ],
        [
         "('MODEL_STAGE[1]', np.int64(1))",
         "1.0"
        ],
        [
         "('MODEL_STAGE[2]', np.int64(2))",
         "0.5"
        ],
        [
         "('MODEL_STAGE[2]', np.int64(3))",
         "1.0"
        ],
        [
         "('MODEL_STAGE[3]', np.int64(4))",
         "6.666666666666667e-05"
        ],
        [
         "('MODEL_STAGE[3]', np.int64(14))",
         "0.0007333333333333336"
        ],
        [
         "('MODEL_STAGE[3]', np.int64(24))",
         "0.0014000000000000004"
        ],
        [
         "('MODEL_STAGE[3]', np.int64(34))",
         "0.002066666666666667"
        ],
        [
         "('MODEL_STAGE[3]', np.int64(44))",
         "0.002733333333333334"
        ],
        [
         "('MODEL_STAGE[3]', np.int64(54))",
         "0.003400000000000001"
        ],
        [
         "('MODEL_STAGE[3]', np.int64(65))",
         "0.0041333333333333335"
        ],
        [
         "('MODEL_STAGE[3]', np.int64(76))",
         "0.004866666666666662"
        ],
        [
         "('MODEL_STAGE[3]', np.int64(87))",
         "0.005599999999999991"
        ],
        [
         "('MODEL_STAGE[3]', np.int64(98))",
         "0.00633333333333332"
        ],
        [
         "('MODEL_STAGE[3]', np.int64(109))",
         "0.007066666666666649"
        ],
        [
         "('MODEL_STAGE[3]', np.int64(120))",
         "0.007799999999999978"
        ],
        [
         "('MODEL_STAGE[3]', np.int64(131))",
         "0.008533333333333308"
        ],
        [
         "('MODEL_STAGE[3]', np.int64(142))",
         "0.009266666666666637"
        ],
        [
         "('MODEL_STAGE[3]', np.int64(153))",
         "0.009999999999999966"
        ],
        [
         "('MODEL_STAGE[3]', np.int64(164))",
         "0.010733333333333294"
        ],
        [
         "('MODEL_STAGE[3]', np.int64(175))",
         "0.011466666666666623"
        ],
        [
         "('MODEL_STAGE[3]', np.int64(186))",
         "0.012199999999999952"
        ],
        [
         "('MODEL_STAGE[3]', np.int64(197))",
         "0.012933333333333281"
        ],
        [
         "('MODEL_STAGE[3]', np.int64(208))",
         "0.01366666666666661"
        ],
        [
         "('MODEL_STAGE[3]', np.int64(219))",
         "0.014399999999999939"
        ],
        [
         "('MODEL_STAGE[3]', np.int64(230))",
         "0.015133333333333268"
        ],
        [
         "('MODEL_STAGE[3]', np.int64(241))",
         "0.0158666666666666"
        ],
        [
         "('MODEL_STAGE[3]', np.int64(252))",
         "0.016599999999999927"
        ],
        [
         "('MODEL_STAGE[3]', np.int64(263))",
         "0.017333333333333256"
        ],
        [
         "('MODEL_STAGE[3]', np.int64(274))",
         "0.018066666666666585"
        ],
        [
         "('MODEL_STAGE[3]', np.int64(285))",
         "0.018799999999999914"
        ],
        [
         "('MODEL_STAGE[3]', np.int64(296))",
         "0.019533333333333243"
        ],
        [
         "('MODEL_STAGE[3]', np.int64(307))",
         "0.020266666666666572"
        ],
        [
         "('MODEL_STAGE[3]', np.int64(318))",
         "0.0209999999999999"
        ],
        [
         "('MODEL_STAGE[3]', np.int64(329))",
         "0.02173333333333323"
        ],
        [
         "('MODEL_STAGE[3]', np.int64(340))",
         "0.02246666666666656"
        ],
        [
         "('MODEL_STAGE[3]', np.int64(351))",
         "0.023199999999999887"
        ],
        [
         "('MODEL_STAGE[3]', np.int64(362))",
         "0.023933333333333216"
        ],
        [
         "('MODEL_STAGE[3]', np.int64(373))",
         "0.024666666666666545"
        ],
        [
         "('MODEL_STAGE[3]', np.int64(384))",
         "0.025399999999999874"
        ],
        [
         "('MODEL_STAGE[3]', np.int64(395))",
         "0.026133333333333203"
        ],
        [
         "('MODEL_STAGE[3]', np.int64(406))",
         "0.026866666666666532"
        ],
        [
         "('MODEL_STAGE[3]', np.int64(417))",
         "0.02759999999999986"
        ],
        [
         "('MODEL_STAGE[3]', np.int64(428))",
         "0.02833333333333319"
        ],
        [
         "('MODEL_STAGE[3]', np.int64(439))",
         "0.02906666666666652"
        ],
        [
         "('MODEL_STAGE[3]', np.int64(450))",
         "0.029799999999999847"
        ],
        [
         "('MODEL_STAGE[3]', np.int64(461))",
         "0.030533333333333176"
        ],
        [
         "('MODEL_STAGE[3]', np.int64(472))",
         "0.031266666666666505"
        ],
        [
         "('MODEL_STAGE[3]', np.int64(483))",
         "0.031999999999999834"
        ],
        [
         "('MODEL_STAGE[3]', np.int64(494))",
         "0.03273333333333316"
        ]
       ],
       "shape": {
        "columns": 1,
        "rows": 1377
       }
      },
      "text/html": [
       "<div>\n",
       "<style scoped>\n",
       "    .dataframe tbody tr th:only-of-type {\n",
       "        vertical-align: middle;\n",
       "    }\n",
       "\n",
       "    .dataframe tbody tr th {\n",
       "        vertical-align: top;\n",
       "    }\n",
       "\n",
       "    .dataframe thead th {\n",
       "        text-align: right;\n",
       "    }\n",
       "</style>\n",
       "<table border=\"1\" class=\"dataframe\">\n",
       "  <thead>\n",
       "    <tr style=\"text-align: right;\">\n",
       "      <th></th>\n",
       "      <th></th>\n",
       "      <th>TIME</th>\n",
       "    </tr>\n",
       "    <tr>\n",
       "      <th>MODEL_STAGE</th>\n",
       "      <th>STEP</th>\n",
       "      <th></th>\n",
       "    </tr>\n",
       "  </thead>\n",
       "  <tbody>\n",
       "    <tr>\n",
       "      <th rowspan=\"2\" valign=\"top\">MODEL_STAGE[1]</th>\n",
       "      <th>0</th>\n",
       "      <td>0.500000</td>\n",
       "    </tr>\n",
       "    <tr>\n",
       "      <th>1</th>\n",
       "      <td>1.000000</td>\n",
       "    </tr>\n",
       "    <tr>\n",
       "      <th rowspan=\"2\" valign=\"top\">MODEL_STAGE[2]</th>\n",
       "      <th>2</th>\n",
       "      <td>0.500000</td>\n",
       "    </tr>\n",
       "    <tr>\n",
       "      <th>3</th>\n",
       "      <td>1.000000</td>\n",
       "    </tr>\n",
       "    <tr>\n",
       "      <th rowspan=\"7\" valign=\"top\">MODEL_STAGE[3]</th>\n",
       "      <th>4</th>\n",
       "      <td>0.000067</td>\n",
       "    </tr>\n",
       "    <tr>\n",
       "      <th>...</th>\n",
       "      <td>...</td>\n",
       "    </tr>\n",
       "    <tr>\n",
       "      <th>14953</th>\n",
       "      <td>0.996667</td>\n",
       "    </tr>\n",
       "    <tr>\n",
       "      <th>14964</th>\n",
       "      <td>0.997400</td>\n",
       "    </tr>\n",
       "    <tr>\n",
       "      <th>14975</th>\n",
       "      <td>0.998133</td>\n",
       "    </tr>\n",
       "    <tr>\n",
       "      <th>14986</th>\n",
       "      <td>0.998867</td>\n",
       "    </tr>\n",
       "    <tr>\n",
       "      <th>14997</th>\n",
       "      <td>0.999600</td>\n",
       "    </tr>\n",
       "  </tbody>\n",
       "</table>\n",
       "<p>1377 rows × 1 columns</p>\n",
       "</div>"
      ],
      "text/plain": [
       "                          TIME\n",
       "MODEL_STAGE    STEP           \n",
       "MODEL_STAGE[1] 0      0.500000\n",
       "               1      1.000000\n",
       "MODEL_STAGE[2] 2      0.500000\n",
       "               3      1.000000\n",
       "MODEL_STAGE[3] 4      0.000067\n",
       "...                        ...\n",
       "               14953  0.996667\n",
       "               14964  0.997400\n",
       "               14975  0.998133\n",
       "               14986  0.998867\n",
       "               14997  0.999600\n",
       "\n",
       "[1377 rows x 1 columns]"
      ]
     },
     "execution_count": 17,
     "metadata": {},
     "output_type": "execute_result"
    }
   ],
   "source": [
    "model.element_types['element_types_dict']['force']\n",
    "model.time"
   ]
  },
  {
   "cell_type": "code",
   "execution_count": 18,
   "id": "b82b4688",
   "metadata": {},
   "outputs": [
    {
     "data": {
      "text/plain": [
       "{'array': array([(   8, 0,   0, 0.82, 0., 2.  ), (  10, 0,   1, 0.98, 0., 2.  ),\n",
       "        (  12, 0,   2, 0.9 , 0., 2.  ), ...,\n",
       "        (2007, 3, 565, 0.25, 0., 0.95), (2008, 3, 566, 0.25, 0., 1.  ),\n",
       "        (2009, 3, 567, 0.25, 0., 1.05)],\n",
       "       shape=(2232,), dtype=[('node_id', '<i8'), ('file_id', '<i8'), ('index', '<i8'), ('x', '<f8'), ('y', '<f8'), ('z', '<f8')]),\n",
       " 'dataframe':       node_id  file_id  index     x    y     z\n",
       " 0           8        0      0  0.82  0.0  2.00\n",
       " 1          10        0      1  0.98  0.0  2.00\n",
       " 2          12        0      2  0.90  0.0  2.00\n",
       " 3         705        0      3  0.82  0.0  0.96\n",
       " 4         706        0      4  0.82  0.0  0.97\n",
       " ...       ...      ...    ...   ...  ...   ...\n",
       " 2227     2005        3    563  0.25  0.0  0.85\n",
       " 2228     2006        3    564  0.25  0.0  0.90\n",
       " 2229     2007        3    565  0.25  0.0  0.95\n",
       " 2230     2008        3    566  0.25  0.0  1.00\n",
       " 2231     2009        3    567  0.25  0.0  1.05\n",
       " \n",
       " [2232 rows x 6 columns]}"
      ]
     },
     "execution_count": 18,
     "metadata": {},
     "output_type": "execute_result"
    }
   ],
   "source": [
    "model.nodes_info"
   ]
  },
  {
   "cell_type": "code",
   "execution_count": 19,
   "id": "2cc70592",
   "metadata": {},
   "outputs": [
    {
     "data": {
      "application/vnd.microsoft.datawrangler.viewer.v0+json": {
       "columns": [
        {
         "name": "index",
         "rawType": "int64",
         "type": "integer"
        },
        {
         "name": "node_id",
         "rawType": "int32",
         "type": "integer"
        },
        {
         "name": "file_id",
         "rawType": "int64",
         "type": "integer"
        },
        {
         "name": "index",
         "rawType": "int64",
         "type": "integer"
        },
        {
         "name": "x",
         "rawType": "float64",
         "type": "float"
        },
        {
         "name": "y",
         "rawType": "float64",
         "type": "float"
        },
        {
         "name": "z",
         "rawType": "float64",
         "type": "float"
        }
       ],
       "conversionMethod": "pd.DataFrame",
       "ref": "c3c8928e-bc73-42dc-b98e-653a9b0d419c",
       "rows": [
        [
         "0",
         "8",
         "0",
         "0",
         "0.82",
         "0.0",
         "2.0"
        ],
        [
         "1",
         "10",
         "0",
         "1",
         "0.98",
         "0.0",
         "2.0"
        ],
        [
         "2",
         "12",
         "0",
         "2",
         "0.9",
         "0.0",
         "2.0"
        ],
        [
         "3",
         "705",
         "0",
         "3",
         "0.82",
         "0.0",
         "0.96"
        ],
        [
         "4",
         "706",
         "0",
         "4",
         "0.82",
         "0.0",
         "0.97"
        ],
        [
         "5",
         "707",
         "0",
         "5",
         "0.82",
         "0.0",
         "0.98"
        ],
        [
         "6",
         "708",
         "0",
         "6",
         "0.82",
         "0.0",
         "0.99"
        ],
        [
         "7",
         "709",
         "0",
         "7",
         "0.82",
         "0.0",
         "1.0"
        ],
        [
         "8",
         "710",
         "0",
         "8",
         "0.82",
         "0.0",
         "1.01"
        ],
        [
         "9",
         "711",
         "0",
         "9",
         "0.82",
         "0.0",
         "1.02"
        ],
        [
         "10",
         "712",
         "0",
         "10",
         "0.82",
         "0.0",
         "1.03"
        ],
        [
         "11",
         "713",
         "0",
         "11",
         "0.82",
         "0.0",
         "1.04"
        ],
        [
         "12",
         "714",
         "0",
         "12",
         "0.82",
         "0.0",
         "1.05"
        ],
        [
         "13",
         "715",
         "0",
         "13",
         "0.82",
         "0.0",
         "1.06"
        ],
        [
         "14",
         "716",
         "0",
         "14",
         "0.82",
         "0.0",
         "1.07"
        ],
        [
         "15",
         "717",
         "0",
         "15",
         "0.82",
         "0.0",
         "1.08"
        ],
        [
         "16",
         "718",
         "0",
         "16",
         "0.82",
         "0.0",
         "1.09"
        ],
        [
         "17",
         "719",
         "0",
         "17",
         "0.82",
         "0.0",
         "1.1"
        ],
        [
         "18",
         "720",
         "0",
         "18",
         "0.82",
         "0.0",
         "1.11"
        ],
        [
         "19",
         "721",
         "0",
         "19",
         "0.82",
         "0.0",
         "1.12"
        ],
        [
         "20",
         "722",
         "0",
         "20",
         "0.82",
         "0.0",
         "1.13"
        ],
        [
         "21",
         "723",
         "0",
         "21",
         "0.82",
         "0.0",
         "1.14"
        ],
        [
         "22",
         "724",
         "0",
         "22",
         "0.82",
         "0.0",
         "1.15"
        ],
        [
         "23",
         "725",
         "0",
         "23",
         "0.82",
         "0.0",
         "1.16"
        ],
        [
         "24",
         "726",
         "0",
         "24",
         "0.82",
         "0.0",
         "1.17"
        ],
        [
         "25",
         "727",
         "0",
         "25",
         "0.82",
         "0.0",
         "1.18"
        ],
        [
         "26",
         "728",
         "0",
         "26",
         "0.82",
         "0.0",
         "1.19"
        ],
        [
         "27",
         "729",
         "0",
         "27",
         "0.82",
         "0.0",
         "1.2"
        ],
        [
         "28",
         "730",
         "0",
         "28",
         "0.82",
         "0.0",
         "1.21"
        ],
        [
         "29",
         "731",
         "0",
         "29",
         "0.82",
         "0.0",
         "1.22"
        ],
        [
         "30",
         "732",
         "0",
         "30",
         "0.82",
         "0.0",
         "1.23"
        ],
        [
         "31",
         "733",
         "0",
         "31",
         "0.82",
         "0.0",
         "1.24"
        ],
        [
         "32",
         "734",
         "0",
         "32",
         "0.82",
         "0.0",
         "1.25"
        ],
        [
         "33",
         "735",
         "0",
         "33",
         "0.82",
         "0.0",
         "1.26"
        ],
        [
         "34",
         "736",
         "0",
         "34",
         "0.82",
         "0.0",
         "1.27"
        ],
        [
         "35",
         "737",
         "0",
         "35",
         "0.82",
         "0.0",
         "1.28"
        ],
        [
         "36",
         "738",
         "0",
         "36",
         "0.82",
         "0.0",
         "1.29"
        ],
        [
         "37",
         "739",
         "0",
         "37",
         "0.82",
         "0.0",
         "1.3"
        ],
        [
         "38",
         "740",
         "0",
         "38",
         "0.82",
         "0.0",
         "1.31"
        ],
        [
         "39",
         "741",
         "0",
         "39",
         "0.82",
         "0.0",
         "1.32"
        ],
        [
         "40",
         "742",
         "0",
         "40",
         "0.82",
         "0.0",
         "1.33"
        ],
        [
         "41",
         "743",
         "0",
         "41",
         "0.82",
         "0.0",
         "1.34"
        ],
        [
         "42",
         "744",
         "0",
         "42",
         "0.82",
         "0.0",
         "1.35"
        ],
        [
         "43",
         "745",
         "0",
         "43",
         "0.82",
         "0.0",
         "1.36"
        ],
        [
         "44",
         "746",
         "0",
         "44",
         "0.82",
         "0.0",
         "1.37"
        ],
        [
         "45",
         "747",
         "0",
         "45",
         "0.82",
         "0.0",
         "1.38"
        ],
        [
         "46",
         "748",
         "0",
         "46",
         "0.82",
         "0.0",
         "1.39"
        ],
        [
         "47",
         "749",
         "0",
         "47",
         "0.82",
         "0.0",
         "1.4"
        ],
        [
         "48",
         "750",
         "0",
         "48",
         "0.82",
         "0.0",
         "1.41"
        ],
        [
         "49",
         "751",
         "0",
         "49",
         "0.82",
         "0.0",
         "1.42"
        ]
       ],
       "shape": {
        "columns": 6,
        "rows": 2232
       }
      },
      "text/html": [
       "<div>\n",
       "<style scoped>\n",
       "    .dataframe tbody tr th:only-of-type {\n",
       "        vertical-align: middle;\n",
       "    }\n",
       "\n",
       "    .dataframe tbody tr th {\n",
       "        vertical-align: top;\n",
       "    }\n",
       "\n",
       "    .dataframe thead th {\n",
       "        text-align: right;\n",
       "    }\n",
       "</style>\n",
       "<table border=\"1\" class=\"dataframe\">\n",
       "  <thead>\n",
       "    <tr style=\"text-align: right;\">\n",
       "      <th></th>\n",
       "      <th>node_id</th>\n",
       "      <th>file_id</th>\n",
       "      <th>index</th>\n",
       "      <th>x</th>\n",
       "      <th>y</th>\n",
       "      <th>z</th>\n",
       "    </tr>\n",
       "  </thead>\n",
       "  <tbody>\n",
       "    <tr>\n",
       "      <th>0</th>\n",
       "      <td>8</td>\n",
       "      <td>0</td>\n",
       "      <td>0</td>\n",
       "      <td>0.82</td>\n",
       "      <td>0.0</td>\n",
       "      <td>2.00</td>\n",
       "    </tr>\n",
       "    <tr>\n",
       "      <th>1</th>\n",
       "      <td>10</td>\n",
       "      <td>0</td>\n",
       "      <td>1</td>\n",
       "      <td>0.98</td>\n",
       "      <td>0.0</td>\n",
       "      <td>2.00</td>\n",
       "    </tr>\n",
       "    <tr>\n",
       "      <th>2</th>\n",
       "      <td>12</td>\n",
       "      <td>0</td>\n",
       "      <td>2</td>\n",
       "      <td>0.90</td>\n",
       "      <td>0.0</td>\n",
       "      <td>2.00</td>\n",
       "    </tr>\n",
       "    <tr>\n",
       "      <th>3</th>\n",
       "      <td>705</td>\n",
       "      <td>0</td>\n",
       "      <td>3</td>\n",
       "      <td>0.82</td>\n",
       "      <td>0.0</td>\n",
       "      <td>0.96</td>\n",
       "    </tr>\n",
       "    <tr>\n",
       "      <th>4</th>\n",
       "      <td>706</td>\n",
       "      <td>0</td>\n",
       "      <td>4</td>\n",
       "      <td>0.82</td>\n",
       "      <td>0.0</td>\n",
       "      <td>0.97</td>\n",
       "    </tr>\n",
       "    <tr>\n",
       "      <th>...</th>\n",
       "      <td>...</td>\n",
       "      <td>...</td>\n",
       "      <td>...</td>\n",
       "      <td>...</td>\n",
       "      <td>...</td>\n",
       "      <td>...</td>\n",
       "    </tr>\n",
       "    <tr>\n",
       "      <th>2227</th>\n",
       "      <td>2005</td>\n",
       "      <td>3</td>\n",
       "      <td>563</td>\n",
       "      <td>0.25</td>\n",
       "      <td>0.0</td>\n",
       "      <td>0.85</td>\n",
       "    </tr>\n",
       "    <tr>\n",
       "      <th>2228</th>\n",
       "      <td>2006</td>\n",
       "      <td>3</td>\n",
       "      <td>564</td>\n",
       "      <td>0.25</td>\n",
       "      <td>0.0</td>\n",
       "      <td>0.90</td>\n",
       "    </tr>\n",
       "    <tr>\n",
       "      <th>2229</th>\n",
       "      <td>2007</td>\n",
       "      <td>3</td>\n",
       "      <td>565</td>\n",
       "      <td>0.25</td>\n",
       "      <td>0.0</td>\n",
       "      <td>0.95</td>\n",
       "    </tr>\n",
       "    <tr>\n",
       "      <th>2230</th>\n",
       "      <td>2008</td>\n",
       "      <td>3</td>\n",
       "      <td>566</td>\n",
       "      <td>0.25</td>\n",
       "      <td>0.0</td>\n",
       "      <td>1.00</td>\n",
       "    </tr>\n",
       "    <tr>\n",
       "      <th>2231</th>\n",
       "      <td>2009</td>\n",
       "      <td>3</td>\n",
       "      <td>567</td>\n",
       "      <td>0.25</td>\n",
       "      <td>0.0</td>\n",
       "      <td>1.05</td>\n",
       "    </tr>\n",
       "  </tbody>\n",
       "</table>\n",
       "<p>2232 rows × 6 columns</p>\n",
       "</div>"
      ],
      "text/plain": [
       "      node_id  file_id  index     x    y     z\n",
       "0           8        0      0  0.82  0.0  2.00\n",
       "1          10        0      1  0.98  0.0  2.00\n",
       "2          12        0      2  0.90  0.0  2.00\n",
       "3         705        0      3  0.82  0.0  0.96\n",
       "4         706        0      4  0.82  0.0  0.97\n",
       "...       ...      ...    ...   ...  ...   ...\n",
       "2227     2005        3    563  0.25  0.0  0.85\n",
       "2228     2006        3    564  0.25  0.0  0.90\n",
       "2229     2007        3    565  0.25  0.0  0.95\n",
       "2230     2008        3    566  0.25  0.0  1.00\n",
       "2231     2009        3    567  0.25  0.0  1.05\n",
       "\n",
       "[2232 rows x 6 columns]"
      ]
     },
     "execution_count": 19,
     "metadata": {},
     "output_type": "execute_result"
    }
   ],
   "source": [
    "model.nodes_info['dataframe']"
   ]
  },
  {
   "cell_type": "code",
   "execution_count": 20,
   "id": "e969318c",
   "metadata": {},
   "outputs": [
    {
     "data": {
      "text/plain": [
       "{'array': array([],\n",
       "       dtype=[('element_id', '<i8'), ('file_id', '<i8'), ('index', '<i8'), ('type', '<U50')]),\n",
       " 'dataframe': Empty DataFrame\n",
       " Columns: []\n",
       " Index: []}"
      ]
     },
     "execution_count": 20,
     "metadata": {},
     "output_type": "execute_result"
    }
   ],
   "source": [
    "model.elements_info"
   ]
  },
  {
   "cell_type": "code",
   "execution_count": 21,
   "id": "20a89609",
   "metadata": {},
   "outputs": [
    {
     "data": {
      "application/vnd.microsoft.datawrangler.viewer.v0+json": {
       "columns": [
        {
         "name": "index",
         "rawType": "int64",
         "type": "integer"
        }
       ],
       "conversionMethod": "pd.DataFrame",
       "ref": "ed5f7e54-32ec-493e-924f-98ae346fb2b6",
       "rows": [],
       "shape": {
        "columns": 0,
        "rows": 0
       }
      },
      "text/html": [
       "<div>\n",
       "<style scoped>\n",
       "    .dataframe tbody tr th:only-of-type {\n",
       "        vertical-align: middle;\n",
       "    }\n",
       "\n",
       "    .dataframe tbody tr th {\n",
       "        vertical-align: top;\n",
       "    }\n",
       "\n",
       "    .dataframe thead th {\n",
       "        text-align: right;\n",
       "    }\n",
       "</style>\n",
       "<table border=\"1\" class=\"dataframe\">\n",
       "  <thead>\n",
       "    <tr style=\"text-align: right;\">\n",
       "      <th></th>\n",
       "    </tr>\n",
       "  </thead>\n",
       "  <tbody>\n",
       "  </tbody>\n",
       "</table>\n",
       "</div>"
      ],
      "text/plain": [
       "Empty DataFrame\n",
       "Columns: []\n",
       "Index: []"
      ]
     },
     "execution_count": 21,
     "metadata": {},
     "output_type": "execute_result"
    }
   ],
   "source": [
    "model.elements_info['dataframe']"
   ]
  }
 ],
 "metadata": {
  "kernelspec": {
   "display_name": "STKO_to_python_env",
   "language": "python",
   "name": "python3"
  },
  "language_info": {
   "codemirror_mode": {
    "name": "ipython",
    "version": 3
   },
   "file_extension": ".py",
   "mimetype": "text/x-python",
   "name": "python",
   "nbconvert_exporter": "python",
   "pygments_lexer": "ipython3",
   "version": "3.11.9"
  }
 },
 "nbformat": 4,
 "nbformat_minor": 5
}
